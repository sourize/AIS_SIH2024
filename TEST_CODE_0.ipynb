{
 "cells": [
  {
   "cell_type": "code",
   "execution_count": 1,
   "id": "e7a8ebb4-a6c2-45df-9a50-686edaccbf80",
   "metadata": {},
   "outputs": [],
   "source": [
    "import pandas as pd\n",
    "import numpy as np\n",
    "import matplotlib.pyplot as plt\n",
    "import tensorflow as tf\n",
    "from tensorflow.keras.models import load_model\n",
    "from keras.models import Sequential\n",
    "from keras.layers import Dense\n",
    "from sklearn.model_selection import train_test_split\n",
    "from sklearn.preprocessing import StandardScaler"
   ]
  },
  {
   "cell_type": "code",
   "execution_count": 2,
   "id": "0f53c16d-e632-4ab0-b9fc-b7ad1fb00518",
   "metadata": {},
   "outputs": [
    {
     "name": "stderr",
     "output_type": "stream",
     "text": [
      "C:\\Users\\Sourish\\anaconda3\\Lib\\site-packages\\keras\\src\\saving\\saving_lib.py:713: UserWarning: Skipping variable loading for optimizer 'rmsprop', because it has 14 variables whereas the saved optimizer has 26 variables. \n",
      "  saveable.load_own_variables(weights_store.get(inner_path))\n"
     ]
    }
   ],
   "source": [
    "# Load the saved model\n",
    "model = load_model('autoencoder_model(keras).keras')"
   ]
  },
  {
   "cell_type": "code",
   "execution_count": 3,
   "id": "4e634dd0-b8dd-40ef-a2b9-da1ca27eee6a",
   "metadata": {},
   "outputs": [],
   "source": [
    "df_t = pd.read_csv(\"df_test.csv\")"
   ]
  },
  {
   "cell_type": "code",
   "execution_count": 4,
   "id": "8c6211c0-e27d-47ad-b5f0-ec0b70869107",
   "metadata": {},
   "outputs": [
    {
     "data": {
      "text/html": [
       "<div>\n",
       "<style scoped>\n",
       "    .dataframe tbody tr th:only-of-type {\n",
       "        vertical-align: middle;\n",
       "    }\n",
       "\n",
       "    .dataframe tbody tr th {\n",
       "        vertical-align: top;\n",
       "    }\n",
       "\n",
       "    .dataframe thead th {\n",
       "        text-align: right;\n",
       "    }\n",
       "</style>\n",
       "<table border=\"1\" class=\"dataframe\">\n",
       "  <thead>\n",
       "    <tr style=\"text-align: right;\">\n",
       "      <th></th>\n",
       "      <th># Timestamp</th>\n",
       "      <th>Type of mobile</th>\n",
       "      <th>MMSI</th>\n",
       "      <th>Latitude</th>\n",
       "      <th>Longitude</th>\n",
       "      <th>Navigational status</th>\n",
       "      <th>ROT</th>\n",
       "      <th>SOG</th>\n",
       "      <th>COG</th>\n",
       "      <th>Heading</th>\n",
       "      <th>...</th>\n",
       "      <th>Length</th>\n",
       "      <th>Type of position fixing device</th>\n",
       "      <th>Draught</th>\n",
       "      <th>Destination</th>\n",
       "      <th>ETA</th>\n",
       "      <th>Data source type</th>\n",
       "      <th>A</th>\n",
       "      <th>B</th>\n",
       "      <th>C</th>\n",
       "      <th>D</th>\n",
       "    </tr>\n",
       "  </thead>\n",
       "  <tbody>\n",
       "    <tr>\n",
       "      <th>0</th>\n",
       "      <td>27/02/2024 03:42:19</td>\n",
       "      <td>Class A</td>\n",
       "      <td>266163000</td>\n",
       "      <td>57.037450</td>\n",
       "      <td>12.157890</td>\n",
       "      <td>Unknown value</td>\n",
       "      <td>NaN</td>\n",
       "      <td>3.1</td>\n",
       "      <td>141.4</td>\n",
       "      <td>NaN</td>\n",
       "      <td>...</td>\n",
       "      <td>17.0</td>\n",
       "      <td>GPS</td>\n",
       "      <td>NaN</td>\n",
       "      <td>Unknown</td>\n",
       "      <td>NaN</td>\n",
       "      <td>AIS</td>\n",
       "      <td>5.0</td>\n",
       "      <td>12.0</td>\n",
       "      <td>3.0</td>\n",
       "      <td>3.0</td>\n",
       "    </tr>\n",
       "    <tr>\n",
       "      <th>1</th>\n",
       "      <td>27/02/2024 07:56:43</td>\n",
       "      <td>Class A</td>\n",
       "      <td>211493380</td>\n",
       "      <td>54.684170</td>\n",
       "      <td>8.616163</td>\n",
       "      <td>Under way using engine</td>\n",
       "      <td>0.0</td>\n",
       "      <td>10.2</td>\n",
       "      <td>212.6</td>\n",
       "      <td>208.0</td>\n",
       "      <td>...</td>\n",
       "      <td>76.0</td>\n",
       "      <td>GPS</td>\n",
       "      <td>1.7</td>\n",
       "      <td>WYK/DAGEBUELL/AMRUM</td>\n",
       "      <td>09/07/2024 22:00:00</td>\n",
       "      <td>AIS</td>\n",
       "      <td>38.0</td>\n",
       "      <td>38.0</td>\n",
       "      <td>8.0</td>\n",
       "      <td>8.0</td>\n",
       "    </tr>\n",
       "    <tr>\n",
       "      <th>2</th>\n",
       "      <td>27/02/2024 22:03:56</td>\n",
       "      <td>Class A</td>\n",
       "      <td>218143000</td>\n",
       "      <td>54.537913</td>\n",
       "      <td>11.199627</td>\n",
       "      <td>Under way using engine</td>\n",
       "      <td>0.0</td>\n",
       "      <td>0.0</td>\n",
       "      <td>242.0</td>\n",
       "      <td>124.0</td>\n",
       "      <td>...</td>\n",
       "      <td>38.0</td>\n",
       "      <td>GPS</td>\n",
       "      <td>6.0</td>\n",
       "      <td>ETV FEHMARNBELT</td>\n",
       "      <td>31/01/2025 12:00:00</td>\n",
       "      <td>AIS</td>\n",
       "      <td>15.0</td>\n",
       "      <td>23.0</td>\n",
       "      <td>6.0</td>\n",
       "      <td>6.0</td>\n",
       "    </tr>\n",
       "    <tr>\n",
       "      <th>3</th>\n",
       "      <td>27/02/2024 17:22:33</td>\n",
       "      <td>Class A</td>\n",
       "      <td>219014162</td>\n",
       "      <td>57.122442</td>\n",
       "      <td>8.600523</td>\n",
       "      <td>Engaged in fishing</td>\n",
       "      <td>0.0</td>\n",
       "      <td>0.0</td>\n",
       "      <td>176.9</td>\n",
       "      <td>147.0</td>\n",
       "      <td>...</td>\n",
       "      <td>10.0</td>\n",
       "      <td>GPS</td>\n",
       "      <td>1.4</td>\n",
       "      <td>VIGSOE</td>\n",
       "      <td>01/01/2025 00:00:00</td>\n",
       "      <td>AIS</td>\n",
       "      <td>4.0</td>\n",
       "      <td>6.0</td>\n",
       "      <td>2.0</td>\n",
       "      <td>2.0</td>\n",
       "    </tr>\n",
       "    <tr>\n",
       "      <th>4</th>\n",
       "      <td>27/02/2024 18:15:21</td>\n",
       "      <td>Class A</td>\n",
       "      <td>538010661</td>\n",
       "      <td>55.530500</td>\n",
       "      <td>5.007167</td>\n",
       "      <td>Restricted maneuverability</td>\n",
       "      <td>NaN</td>\n",
       "      <td>0.0</td>\n",
       "      <td>355.0</td>\n",
       "      <td>NaN</td>\n",
       "      <td>...</td>\n",
       "      <td>103.0</td>\n",
       "      <td>GPS</td>\n",
       "      <td>12.3</td>\n",
       "      <td>FREDERIKSHAVN</td>\n",
       "      <td>04/03/2024 04:00:00</td>\n",
       "      <td>AIS</td>\n",
       "      <td>38.0</td>\n",
       "      <td>65.0</td>\n",
       "      <td>40.0</td>\n",
       "      <td>28.0</td>\n",
       "    </tr>\n",
       "  </tbody>\n",
       "</table>\n",
       "<p>5 rows × 26 columns</p>\n",
       "</div>"
      ],
      "text/plain": [
       "           # Timestamp Type of mobile       MMSI   Latitude  Longitude  \\\n",
       "0  27/02/2024 03:42:19        Class A  266163000  57.037450  12.157890   \n",
       "1  27/02/2024 07:56:43        Class A  211493380  54.684170   8.616163   \n",
       "2  27/02/2024 22:03:56        Class A  218143000  54.537913  11.199627   \n",
       "3  27/02/2024 17:22:33        Class A  219014162  57.122442   8.600523   \n",
       "4  27/02/2024 18:15:21        Class A  538010661  55.530500   5.007167   \n",
       "\n",
       "          Navigational status  ROT   SOG    COG  Heading  ... Length  \\\n",
       "0               Unknown value  NaN   3.1  141.4      NaN  ...   17.0   \n",
       "1      Under way using engine  0.0  10.2  212.6    208.0  ...   76.0   \n",
       "2      Under way using engine  0.0   0.0  242.0    124.0  ...   38.0   \n",
       "3          Engaged in fishing  0.0   0.0  176.9    147.0  ...   10.0   \n",
       "4  Restricted maneuverability  NaN   0.0  355.0      NaN  ...  103.0   \n",
       "\n",
       "  Type of position fixing device Draught          Destination  \\\n",
       "0                            GPS     NaN              Unknown   \n",
       "1                            GPS     1.7  WYK/DAGEBUELL/AMRUM   \n",
       "2                            GPS     6.0      ETV FEHMARNBELT   \n",
       "3                            GPS     1.4               VIGSOE   \n",
       "4                            GPS    12.3        FREDERIKSHAVN   \n",
       "\n",
       "                   ETA  Data source type     A     B     C     D  \n",
       "0                  NaN               AIS   5.0  12.0   3.0   3.0  \n",
       "1  09/07/2024 22:00:00               AIS  38.0  38.0   8.0   8.0  \n",
       "2  31/01/2025 12:00:00               AIS  15.0  23.0   6.0   6.0  \n",
       "3  01/01/2025 00:00:00               AIS   4.0   6.0   2.0   2.0  \n",
       "4  04/03/2024 04:00:00               AIS  38.0  65.0  40.0  28.0  \n",
       "\n",
       "[5 rows x 26 columns]"
      ]
     },
     "execution_count": 4,
     "metadata": {},
     "output_type": "execute_result"
    }
   ],
   "source": [
    "df_t.head()"
   ]
  },
  {
   "cell_type": "code",
   "execution_count": 5,
   "id": "348cad6d-60d9-4929-b3c2-750d028fa863",
   "metadata": {},
   "outputs": [
    {
     "name": "stdout",
     "output_type": "stream",
     "text": [
      "# Timestamp                        0\n",
      "Type of mobile                     0\n",
      "MMSI                               0\n",
      "Latitude                           0\n",
      "Longitude                          0\n",
      "Navigational status                0\n",
      "ROT                               25\n",
      "SOG                                5\n",
      "COG                                7\n",
      "Heading                           15\n",
      "IMO                                0\n",
      "Callsign                           0\n",
      "Name                               5\n",
      "Ship type                          0\n",
      "Cargo type                        78\n",
      "Width                              6\n",
      "Length                             6\n",
      "Type of position fixing device     0\n",
      "Draught                           16\n",
      "Destination                        0\n",
      "ETA                               27\n",
      "Data source type                   0\n",
      "A                                  6\n",
      "B                                  7\n",
      "C                                  6\n",
      "D                                  7\n",
      "dtype: int64\n"
     ]
    }
   ],
   "source": [
    "null_counts = df_t.isna().sum()\n",
    "print(null_counts)"
   ]
  },
  {
   "cell_type": "code",
   "execution_count": 6,
   "id": "57e451fa-0b5b-4782-8b6e-c16596513ea2",
   "metadata": {},
   "outputs": [],
   "source": [
    "df_t['# Timestamp'] = df_t['# Timestamp'].astype('datetime64[ns]').astype(np.int64) / 1e9  # Convert to seconds"
   ]
  },
  {
   "cell_type": "code",
   "execution_count": 7,
   "id": "cbc7138c-f142-41b0-915e-c13c87a9d72b",
   "metadata": {},
   "outputs": [],
   "source": [
    "df_test = pd.DataFrame(df_t, columns=[\"# Timestamp\", \"MMSI\", \"Latitude\", \"Longitude\", \"SOG\", \"COG\", \"Heading\"])"
   ]
  },
  {
   "cell_type": "code",
   "execution_count": 8,
   "id": "eddaa34c-e14a-44dc-a077-c462c9e50c8f",
   "metadata": {},
   "outputs": [
    {
     "data": {
      "text/html": [
       "<div>\n",
       "<style scoped>\n",
       "    .dataframe tbody tr th:only-of-type {\n",
       "        vertical-align: middle;\n",
       "    }\n",
       "\n",
       "    .dataframe tbody tr th {\n",
       "        vertical-align: top;\n",
       "    }\n",
       "\n",
       "    .dataframe thead th {\n",
       "        text-align: right;\n",
       "    }\n",
       "</style>\n",
       "<table border=\"1\" class=\"dataframe\">\n",
       "  <thead>\n",
       "    <tr style=\"text-align: right;\">\n",
       "      <th></th>\n",
       "      <th># Timestamp</th>\n",
       "      <th>MMSI</th>\n",
       "      <th>Latitude</th>\n",
       "      <th>Longitude</th>\n",
       "      <th>SOG</th>\n",
       "      <th>COG</th>\n",
       "      <th>Heading</th>\n",
       "    </tr>\n",
       "  </thead>\n",
       "  <tbody>\n",
       "    <tr>\n",
       "      <th>0</th>\n",
       "      <td>1.709005e+09</td>\n",
       "      <td>266163000</td>\n",
       "      <td>57.037450</td>\n",
       "      <td>12.157890</td>\n",
       "      <td>3.1</td>\n",
       "      <td>141.4</td>\n",
       "      <td>NaN</td>\n",
       "    </tr>\n",
       "    <tr>\n",
       "      <th>1</th>\n",
       "      <td>1.709021e+09</td>\n",
       "      <td>211493380</td>\n",
       "      <td>54.684170</td>\n",
       "      <td>8.616163</td>\n",
       "      <td>10.2</td>\n",
       "      <td>212.6</td>\n",
       "      <td>208.0</td>\n",
       "    </tr>\n",
       "    <tr>\n",
       "      <th>2</th>\n",
       "      <td>1.709071e+09</td>\n",
       "      <td>218143000</td>\n",
       "      <td>54.537913</td>\n",
       "      <td>11.199627</td>\n",
       "      <td>0.0</td>\n",
       "      <td>242.0</td>\n",
       "      <td>124.0</td>\n",
       "    </tr>\n",
       "    <tr>\n",
       "      <th>3</th>\n",
       "      <td>1.709055e+09</td>\n",
       "      <td>219014162</td>\n",
       "      <td>57.122442</td>\n",
       "      <td>8.600523</td>\n",
       "      <td>0.0</td>\n",
       "      <td>176.9</td>\n",
       "      <td>147.0</td>\n",
       "    </tr>\n",
       "    <tr>\n",
       "      <th>4</th>\n",
       "      <td>1.709058e+09</td>\n",
       "      <td>538010661</td>\n",
       "      <td>55.530500</td>\n",
       "      <td>5.007167</td>\n",
       "      <td>0.0</td>\n",
       "      <td>355.0</td>\n",
       "      <td>NaN</td>\n",
       "    </tr>\n",
       "  </tbody>\n",
       "</table>\n",
       "</div>"
      ],
      "text/plain": [
       "    # Timestamp       MMSI   Latitude  Longitude   SOG    COG  Heading\n",
       "0  1.709005e+09  266163000  57.037450  12.157890   3.1  141.4      NaN\n",
       "1  1.709021e+09  211493380  54.684170   8.616163  10.2  212.6    208.0\n",
       "2  1.709071e+09  218143000  54.537913  11.199627   0.0  242.0    124.0\n",
       "3  1.709055e+09  219014162  57.122442   8.600523   0.0  176.9    147.0\n",
       "4  1.709058e+09  538010661  55.530500   5.007167   0.0  355.0      NaN"
      ]
     },
     "execution_count": 8,
     "metadata": {},
     "output_type": "execute_result"
    }
   ],
   "source": [
    "df_test.head()"
   ]
  },
  {
   "cell_type": "code",
   "execution_count": 9,
   "id": "1dd39bc7-ba61-4fe9-9349-64cd5b3b8836",
   "metadata": {},
   "outputs": [],
   "source": [
    "df_test = df_test.dropna()"
   ]
  },
  {
   "cell_type": "code",
   "execution_count": 10,
   "id": "2e52bee6-be9a-49d3-bca0-b6b6c17d84d7",
   "metadata": {},
   "outputs": [
    {
     "name": "stdout",
     "output_type": "stream",
     "text": [
      "# Timestamp    0\n",
      "MMSI           0\n",
      "Latitude       0\n",
      "Longitude      0\n",
      "SOG            0\n",
      "COG            0\n",
      "Heading        0\n",
      "dtype: int64\n"
     ]
    }
   ],
   "source": [
    "null_counts = df_test.isna().sum()\n",
    "print(null_counts)"
   ]
  },
  {
   "cell_type": "code",
   "execution_count": 11,
   "id": "a6161393-a7fc-4086-ab2d-e162442a92be",
   "metadata": {},
   "outputs": [
    {
     "data": {
      "text/plain": [
       "(85, 7)"
      ]
     },
     "execution_count": 11,
     "metadata": {},
     "output_type": "execute_result"
    }
   ],
   "source": [
    "df_test.shape"
   ]
  },
  {
   "cell_type": "code",
   "execution_count": 12,
   "id": "4502d3c9-2ddb-4d7f-ba14-54e5ef216c88",
   "metadata": {},
   "outputs": [],
   "source": [
    "scaler = StandardScaler()\n",
    "df_features_normalized = scaler.fit_transform(df_test)"
   ]
  },
  {
   "cell_type": "code",
   "execution_count": 13,
   "id": "7d0b3c25-ef9b-490c-b88b-93ba62c6e1dd",
   "metadata": {},
   "outputs": [
    {
     "name": "stdout",
     "output_type": "stream",
     "text": [
      "\u001b[1m3/3\u001b[0m \u001b[32m━━━━━━━━━━━━━━━━━━━━\u001b[0m\u001b[37m\u001b[0m \u001b[1m0s\u001b[0m 83ms/step\n"
     ]
    }
   ],
   "source": [
    "# Step 2: Calculate reconstruction error for the test data\n",
    "reconstructions = model.predict(df_features_normalized)\n",
    "reconstruction_errors = np.mean(np.abs(df_features_normalized - reconstructions), axis=1)"
   ]
  },
  {
   "cell_type": "code",
   "execution_count": 14,
   "id": "a7b55f8e-b2bd-4446-bf59-cca8eed99b67",
   "metadata": {},
   "outputs": [],
   "source": [
    "# Step 3: Determine if each test sample is an anomaly\n",
    "threshold = 1 # Example: using the 95th percentile threshold\n",
    "anomalies = reconstruction_errors > threshold"
   ]
  },
  {
   "cell_type": "code",
   "execution_count": 15,
   "id": "0ca22337-532b-44a1-bf7a-dd8a378968b4",
   "metadata": {},
   "outputs": [
    {
     "name": "stdout",
     "output_type": "stream",
     "text": [
      "Data Point 0: No anomaly detected, Reconstruction Error = 0.51\n",
      "Data Point 1: No anomaly detected, Reconstruction Error = 0.58\n",
      "Data Point 2: No anomaly detected, Reconstruction Error = 0.47\n",
      "Data Point 3: No anomaly detected, Reconstruction Error = 0.49\n",
      "Data Point 4: No anomaly detected, Reconstruction Error = 0.89\n",
      "Data Point 5: No anomaly detected, Reconstruction Error = 0.59\n",
      "Data Point 6: No anomaly detected, Reconstruction Error = 0.33\n",
      "Data Point 7: No anomaly detected, Reconstruction Error = 0.52\n",
      "Data Point 8: No anomaly detected, Reconstruction Error = 0.56\n",
      "Data Point 9: No anomaly detected, Reconstruction Error = 0.33\n",
      "Data Point 10: No anomaly detected, Reconstruction Error = 0.25\n",
      "Data Point 11: No anomaly detected, Reconstruction Error = 0.44\n",
      "Data Point 12: No anomaly detected, Reconstruction Error = 0.29\n",
      "Data Point 13: No anomaly detected, Reconstruction Error = 0.68\n",
      "Data Point 14: No anomaly detected, Reconstruction Error = 0.35\n",
      "Data Point 15: No anomaly detected, Reconstruction Error = 0.93\n",
      "Data Point 16: No anomaly detected, Reconstruction Error = 0.11\n",
      "Data Point 17: No anomaly detected, Reconstruction Error = 0.34\n",
      "Data Point 18: No anomaly detected, Reconstruction Error = 0.53\n",
      "Data Point 19: No anomaly detected, Reconstruction Error = 0.37\n",
      "Data Point 20: No anomaly detected, Reconstruction Error = 0.26\n",
      "Data Point 21: No anomaly detected, Reconstruction Error = 0.38\n",
      "Data Point 22: No anomaly detected, Reconstruction Error = 0.39\n",
      "Data Point 23: No anomaly detected, Reconstruction Error = 0.21\n",
      "Data Point 24: No anomaly detected, Reconstruction Error = 0.69\n",
      "Data Point 25: No anomaly detected, Reconstruction Error = 0.22\n",
      "Data Point 26: No anomaly detected, Reconstruction Error = 0.64\n",
      "Data Point 27: No anomaly detected, Reconstruction Error = 0.33\n",
      "Data Point 28: No anomaly detected, Reconstruction Error = 0.24\n",
      "Data Point 29: No anomaly detected, Reconstruction Error = 0.23\n",
      "Data Point 30: No anomaly detected, Reconstruction Error = 0.59\n",
      "Data Point 31: No anomaly detected, Reconstruction Error = 0.52\n",
      "Data Point 32: No anomaly detected, Reconstruction Error = 0.55\n",
      "Data Point 33: No anomaly detected, Reconstruction Error = 0.44\n",
      "Data Point 34: No anomaly detected, Reconstruction Error = 0.95\n",
      "Data Point 35: No anomaly detected, Reconstruction Error = 0.57\n",
      "Data Point 36: No anomaly detected, Reconstruction Error = 0.91\n",
      "Data Point 37: No anomaly detected, Reconstruction Error = 0.39\n",
      "Anomaly detected at Data Point 38:\n",
      "Timestamp = 1709023645.0, MMSI = 636016697, LAT = 55.677463, LON = 15.917855\n",
      "Reconstruction Error = 1.09\n",
      "\n",
      "Anomaly detected at Data Point 39:\n",
      "Timestamp = 1709058019.0, MMSI = 636018930, LAT = 55.2692, LON = 14.461775\n",
      "Reconstruction Error = 1.09\n",
      "\n",
      "Data Point 40: No anomaly detected, Reconstruction Error = 0.52\n",
      "Data Point 41: No anomaly detected, Reconstruction Error = 0.42\n",
      "Data Point 42: No anomaly detected, Reconstruction Error = 0.75\n",
      "Data Point 43: No anomaly detected, Reconstruction Error = 0.36\n",
      "Data Point 44: No anomaly detected, Reconstruction Error = 0.61\n",
      "Data Point 45: No anomaly detected, Reconstruction Error = 0.75\n",
      "Data Point 46: No anomaly detected, Reconstruction Error = 0.22\n",
      "Data Point 47: No anomaly detected, Reconstruction Error = 0.60\n",
      "Data Point 48: No anomaly detected, Reconstruction Error = 0.85\n",
      "Data Point 49: No anomaly detected, Reconstruction Error = 0.36\n",
      "Data Point 50: No anomaly detected, Reconstruction Error = 0.43\n",
      "Data Point 51: No anomaly detected, Reconstruction Error = 0.21\n",
      "Data Point 52: No anomaly detected, Reconstruction Error = 0.59\n",
      "Data Point 53: No anomaly detected, Reconstruction Error = 0.62\n",
      "Data Point 54: No anomaly detected, Reconstruction Error = 0.65\n",
      "Data Point 55: No anomaly detected, Reconstruction Error = 0.48\n",
      "Data Point 56: No anomaly detected, Reconstruction Error = 0.45\n",
      "Data Point 57: No anomaly detected, Reconstruction Error = 0.47\n",
      "Data Point 58: No anomaly detected, Reconstruction Error = 0.36\n",
      "Data Point 59: No anomaly detected, Reconstruction Error = 0.32\n",
      "Data Point 60: No anomaly detected, Reconstruction Error = 0.28\n",
      "Data Point 61: No anomaly detected, Reconstruction Error = 0.30\n",
      "Data Point 62: No anomaly detected, Reconstruction Error = 0.70\n",
      "Data Point 63: No anomaly detected, Reconstruction Error = 0.66\n",
      "Data Point 64: No anomaly detected, Reconstruction Error = 0.20\n",
      "Data Point 65: No anomaly detected, Reconstruction Error = 0.56\n",
      "Data Point 66: No anomaly detected, Reconstruction Error = 0.31\n",
      "Data Point 67: No anomaly detected, Reconstruction Error = 0.21\n",
      "Data Point 68: No anomaly detected, Reconstruction Error = 0.39\n",
      "Data Point 69: No anomaly detected, Reconstruction Error = 0.45\n",
      "Data Point 70: No anomaly detected, Reconstruction Error = 0.42\n",
      "Data Point 71: No anomaly detected, Reconstruction Error = 0.55\n",
      "Data Point 72: No anomaly detected, Reconstruction Error = 0.45\n",
      "Data Point 73: No anomaly detected, Reconstruction Error = 0.69\n",
      "Data Point 74: No anomaly detected, Reconstruction Error = 0.43\n",
      "Data Point 75: No anomaly detected, Reconstruction Error = 0.79\n",
      "Data Point 76: No anomaly detected, Reconstruction Error = 0.45\n",
      "Data Point 77: No anomaly detected, Reconstruction Error = 0.51\n",
      "Data Point 78: No anomaly detected, Reconstruction Error = 0.64\n",
      "Data Point 79: No anomaly detected, Reconstruction Error = 0.76\n",
      "Data Point 80: No anomaly detected, Reconstruction Error = 0.42\n",
      "Data Point 81: No anomaly detected, Reconstruction Error = 0.97\n",
      "Data Point 82: No anomaly detected, Reconstruction Error = 0.19\n",
      "Data Point 83: No anomaly detected, Reconstruction Error = 0.30\n",
      "Data Point 84: No anomaly detected, Reconstruction Error = 1.00\n"
     ]
    }
   ],
   "source": [
    "for i, (error, is_anomaly) in enumerate(zip(reconstruction_errors, anomalies)):\n",
    "    if is_anomaly:\n",
    "        base_date_time = df_test['# Timestamp'].iloc[i]\n",
    "        mmsi = df_test['MMSI'].iloc[i]\n",
    "        lat = df_test['Latitude'].iloc[i]\n",
    "        lon = df_test['Longitude'].iloc[i]\n",
    "        print(f\"Anomaly detected at Data Point {i}:\")\n",
    "        print(f\"Timestamp = {base_date_time}, MMSI = {mmsi}, LAT = {lat}, LON = {lon}\")\n",
    "        print(f\"Reconstruction Error = {error:.2f}\\n\")\n",
    "    else:\n",
    "        print(f\"Data Point {i}: No anomaly detected, Reconstruction Error = {error:.2f}\")"
   ]
  },
  {
   "cell_type": "code",
   "execution_count": 16,
   "id": "2d1a4766-b913-4064-9a51-de6d6a9cd685",
   "metadata": {},
   "outputs": [
    {
     "data": {
      "image/png": "[encoded data removed]",
      "text/plain": [
       "<Figure size 1000x600 with 1 Axes>"
      ]
     },
     "metadata": {},
     "output_type": "display_data"
    }
   ],
   "source": [
    "# Visualize the results if needed\n",
    "import matplotlib.pyplot as plt\n",
    "\n",
    "plt.figure(figsize=(10, 6))\n",
    "plt.hist(reconstruction_errors, bins=100, alpha=0.6, color='g', label='Test Data')\n",
    "plt.axvline(x=threshold, color='r', linestyle='dashed', linewidth=2, label=f'Threshold: {threshold:.2f}')\n",
    "plt.title('Reconstruction Error Distribution of Test Data')\n",
    "plt.xlabel('Reconstruction Error')\n",
    "plt.ylabel('Frequency')\n",
    "plt.legend()\n",
    "plt.show()"
   ]
  }
 ],
 "metadata": {
  "kernelspec": {
   "display_name": "Python 3 (ipykernel)",
   "language": "python",
   "name": "python3"
  },
  "language_info": {
   "codemirror_mode": {
    "name": "ipython",
    "version": 3
   },
   "file_extension": ".py",
   "mimetype": "text/x-python",
   "name": "python",
   "nbconvert_exporter": "python",
   "pygments_lexer": "ipython3",
   "version": "3.12.4"
  }
 },
 "nbformat": 4,
 "nbformat_minor": 5
}
